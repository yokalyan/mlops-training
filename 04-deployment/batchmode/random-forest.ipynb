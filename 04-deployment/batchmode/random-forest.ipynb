{
 "cells": [
  {
   "cell_type": "code",
   "execution_count": 17,
   "id": "b7bfdef5",
   "metadata": {},
   "outputs": [],
   "source": [
    "import pandas as pd\n",
    "import uuid\n",
    "import argparse\n",
    "import datetime\n",
    "import mlflow\n",
    "from datetime import date\n",
    "from datetime import datetime, timedelta"
   ]
  },
  {
   "cell_type": "code",
   "execution_count": 3,
   "id": "6f17115b",
   "metadata": {},
   "outputs": [],
   "source": [
    "def generate_uuids(len):\n",
    "    ride_ids = []\n",
    "    for i in range(len):\n",
    "        ride_ids.append(str(uuid.uuid4()))\n",
    "    return ride_ids"
   ]
  },
  {
   "cell_type": "code",
   "execution_count": 4,
   "id": "586a84c7",
   "metadata": {},
   "outputs": [],
   "source": [
    "# load the data\n",
    "def read_dataframe(year, month, taxi_type='yellow'):\n",
    "    url = f'https://d37ci6vzurychx.cloudfront.net/trip-data/{taxi_type}_tripdata_{year}-{month:02d}.parquet'\n",
    "    \n",
    "    df = pd.read_parquet(url)\n",
    "    \n",
    "    df['duration'] = df.lpep_dropoff_datetime - df.lpep_pickup_datetime\n",
    "    df.duration = df.duration.dt.total_seconds() / 60\n",
    "    df = df[(df.duration >= 1) & (df.duration <= 60)]\n",
    "\n",
    "    df['ride_id'] = generate_uuids(len(df))\n",
    "    \n",
    "    return df"
   ]
  },
  {
   "cell_type": "code",
   "execution_count": 5,
   "id": "d7bc73f5",
   "metadata": {},
   "outputs": [],
   "source": [
    "# prepare the data\n",
    "def prepare_data_dict(df):\n",
    "    df['PU_DO'] = '%s_%s' % (df['PULocationID'], df['DOLocationID'])\n",
    "    categorical = ['PU_DO']\n",
    "    numerical = ['trip_distance']\n",
    "    dicts = df[categorical + numerical].to_dict(orient='records')\n",
    "    return dicts"
   ]
  },
  {
   "cell_type": "code",
   "execution_count": 25,
   "id": "eca6933e",
   "metadata": {},
   "outputs": [],
   "source": [
    "# load the model and predict\n",
    "def load_model(run_id):\n",
    "    logged_model = '/workspaces/mlops-training/04-deployment/web-service-mlflow/artifacts/1/ea5d80a75c6548f7a42d857a6d412935/artifacts/model'\n",
    "    \n",
    "    model = mlflow.pyfunc.load_model(logged_model)\n",
    "    return model"
   ]
  },
  {
   "cell_type": "code",
   "execution_count": 7,
   "id": "a99b1405",
   "metadata": {},
   "outputs": [],
   "source": [
    "def save_results(df, y_pred, run_id, output_file):\n",
    "    df_result = pd.DataFrame()\n",
    "    df_result['ride_id'] = df['ride_id']\n",
    "    df_result['lpep_pickup_datetime'] = df['lpep_pickup_datetime']\n",
    "    df_result['PULocationID'] = df['PULocationID']\n",
    "    df_result['DOLocationID'] = df['DOLocationID']\n",
    "    df_result['actual_duration'] = df['duration']\n",
    "    df_result['predicted_duration'] = y_pred\n",
    "    df_result['diff'] = df_result['actual_duration'] - df_result['predicted_duration']\n",
    "    df_result['model_version'] = run_id\n",
    "\n",
    "    df_result.to_parquet(output_file, index=False)"
   ]
  },
  {
   "cell_type": "code",
   "execution_count": 8,
   "id": "da870d04",
   "metadata": {},
   "outputs": [],
   "source": [
    "# @task(name=\"Scheduled run, get current year and month\")\n",
    "def get_current_year_month():\n",
    "    today = datetime.today()\n",
    "    return today.year, today.month"
   ]
  },
  {
   "cell_type": "code",
   "execution_count": 29,
   "id": "593b4363",
   "metadata": {},
   "outputs": [],
   "source": [
    "\n",
    "# @task(name=\"Validate arguments\")\n",
    "def validate_args(year, month):\n",
    "    if (year is None) != (month is None):\n",
    "        raise ValueError(\"You must provide both year and month together, or neither.\")\n",
    "    if year is not None and (year < 2020 or year > datetime.now().year):\n",
    "        raise ValueError(\"Year must be between 2020 and current year.\")\n",
    "    if month is not None and (month < 1 or month > 12):\n",
    "        raise ValueError(\"Month must be between 1 and 12\")\n",
    "    \n",
    "def main_flow(taxi_type, year, month, run_id):\n",
    "    # Assign defaults if neither was provided\n",
    "    if year is None and month is None:\n",
    "        print(\"None values for year and month, using 2 and 3 months prior.\")\n",
    "        year, month = get_current_year_month()\n",
    "        if month <= 3:\n",
    "            year -= 1\n",
    "        month -= 3\n",
    "    validate_args(year, month)\n",
    "    df = read_dataframe(year=year, month=month, taxi_type=taxi_type)\n",
    "    #logger = get_run_logger()\n",
    "    #logger.info(f'reading the data from {input_file}...')\n",
    "    dicts = prepare_data_dict(df)\n",
    "\n",
    "    #logger.info(f'loading the model with RUN_ID={run_id}...')\n",
    "    model = load_model(run_id)\n",
    "\n",
    "    #logger.info(f'applying the model...')\n",
    "    y_pred = model.predict(dicts)\n",
    "\n",
    "    #logger.info(f'saving the result to {output_file}...')\n",
    "    save_results(df, y_pred, run_id, \"/workspaces/mlops-training/04-deployment/batchmode/output/output.parquet\")\n",
    "    \n",
    "    \n",
    "\n",
    "    "
   ]
  },
  {
   "cell_type": "code",
   "execution_count": 30,
   "id": "91579af3",
   "metadata": {},
   "outputs": [],
   "source": [
    " \n",
    "main_flow(\"green\", 2021, 3, \"19fe02adfaaf40dfb0a8a5939491a737\")"
   ]
  },
  {
   "cell_type": "code",
   "execution_count": null,
   "id": "7b9f0d74",
   "metadata": {},
   "outputs": [],
   "source": [
    "if __name__ == \"__main__\":\n",
    "    parser = argparse.ArgumentParser(description='Train a model to predict taxi trip duration.')\n",
    "    parser.add_argument('--taxi-type', type=str, default=\"yellow\", help='Taxi type (yellow/green)')\n",
    "    parser.add_argument('--year', type=int, default=None, help='Year of the data to train on (e.g. 2025)')\n",
    "    parser.add_argument('--month', type=int, default=None, help='Month of the data to train on (e.g. 1-12)')\n",
    "    parser.add_argument('--run-id', type=str, help='MLflow run ID for tracking the model training')\n",
    "    args = parser.parse_args()\n",
    "    \n",
    "    main_flow(taxi_type=args.taxi-type, year=args.year, month=args.month, run_id=args.run-id)"
   ]
  }
 ],
 "metadata": {
  "kernelspec": {
   "display_name": "exp-tracking-env",
   "language": "python",
   "name": "python3"
  },
  "language_info": {
   "codemirror_mode": {
    "name": "ipython",
    "version": 3
   },
   "file_extension": ".py",
   "mimetype": "text/x-python",
   "name": "python",
   "nbconvert_exporter": "python",
   "pygments_lexer": "ipython3",
   "version": "3.9.21"
  }
 },
 "nbformat": 4,
 "nbformat_minor": 5
}
